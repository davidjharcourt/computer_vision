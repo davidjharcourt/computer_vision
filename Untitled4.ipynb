{
 "cells": [
  {
   "cell_type": "code",
   "execution_count": 4,
   "metadata": {},
   "outputs": [],
   "source": [
    "playlist = {\n",
    "    'title':'MyPlaylist',\n",
    "    'author':'David Harcourt',\n",
    "    'songs':[\n",
    "        {'title':'Yesterday','artist':['The Beatles'],'duration':2.5},\n",
    "        {'title':'Pressure','artist':['David Bowie','Queen'],'duration':3.5},\n",
    "        {'title':'Fuck You','artist':['Harry Nilsson'],'duration':2.0}\n",
    "    ]\n",
    "}"
   ]
  },
  {
   "cell_type": "code",
   "execution_count": 6,
   "metadata": {},
   "outputs": [
    {
     "name": "stdout",
     "output_type": "stream",
     "text": [
      "8.0\n"
     ]
    }
   ],
   "source": [
    "total_length = 0\n",
    "for song in playlist['songs']:\n",
    "    total_length += song['duration']\n",
    "print(total_length)"
   ]
  }
 ],
 "metadata": {
  "kernelspec": {
   "display_name": "Python 3",
   "language": "python",
   "name": "python3"
  },
  "language_info": {
   "codemirror_mode": {
    "name": "ipython",
    "version": 3
   },
   "file_extension": ".py",
   "mimetype": "text/x-python",
   "name": "python",
   "nbconvert_exporter": "python",
   "pygments_lexer": "ipython3",
   "version": "3.6.6"
  }
 },
 "nbformat": 4,
 "nbformat_minor": 2
}
